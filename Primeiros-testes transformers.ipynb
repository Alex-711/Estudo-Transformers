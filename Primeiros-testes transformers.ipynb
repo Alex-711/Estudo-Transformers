{
 "cells": [
  {
   "cell_type": "code",
   "execution_count": 135,
   "id": "ea4e4121",
   "metadata": {},
   "outputs": [],
   "source": [
    "context = (\"The United Nations (UN) was created in 1922.\"\n",
    "       \"The Integovernamental Panel on Climate Change(IPCC) is a scientific intergovernamental body under the auspices\"\n",
    "        \"of the United Nations.\"\n",
    "        \"The UN wants to stabilize atmospheric concentrations of greenhouse gases at a level that will prevent dangerous interference with the climate system\"\n",
    "        \"person who invented the plane was a brazilian Santos Drummond\"\n",
    "        \"the STF is the Supreme Cort of Brazil\")"
   ]
  },
  {
   "cell_type": "code",
   "execution_count": 136,
   "id": "d3e839d6",
   "metadata": {},
   "outputs": [],
   "source": [
    "questions = [\n",
    "    \"What organization is the IPCC a part of?\",\n",
    "    \"When was the UN established?\",\n",
    "    \"Who invented the plane?\",\n",
    "    \"What does the UN want to stabilize?\",\n",
    "    \"What is the STF?\"\n",
    "]"
   ]
  },
  {
   "cell_type": "code",
   "execution_count": 137,
   "id": "9d1381c1",
   "metadata": {},
   "outputs": [],
   "source": [
    "from transformers import AutoTokenizer, AutoModelForQuestionAnswering\n",
    "\n",
    "tokenizer = AutoTokenizer.from_pretrained(\"deepset/bert-base-cased-squad2\")\n",
    "\n",
    "model = AutoModelForQuestionAnswering.from_pretrained(\"deepset/bert-base-cased-squad2\")"
   ]
  },
  {
   "cell_type": "code",
   "execution_count": 81,
   "id": "5cc7e87a",
   "metadata": {},
   "outputs": [],
   "source": [
    "from transformers import BertForQuestionAnswering"
   ]
  },
  {
   "cell_type": "code",
   "execution_count": 82,
   "id": "81cb3d7d",
   "metadata": {},
   "outputs": [],
   "source": [
    "model = BertForQuestionAnswering.from_pretrained('deepset/bert-base-cased-squad2')"
   ]
  },
  {
   "cell_type": "code",
   "execution_count": 83,
   "id": "6cf1aaca",
   "metadata": {},
   "outputs": [],
   "source": [
    "from transformers import AutoTokenizer"
   ]
  },
  {
   "cell_type": "code",
   "execution_count": 84,
   "id": "6f69c658",
   "metadata": {},
   "outputs": [],
   "source": [
    "tokenizer = AutoTokenizer.from_pretrained('deepset/bert-base-cased-squad2')"
   ]
  },
  {
   "cell_type": "code",
   "execution_count": 94,
   "id": "de0539d9",
   "metadata": {},
   "outputs": [
    {
     "data": {
      "text/plain": [
       "[101, 1327, 2369, 1110, 1103, 14274, 12096, 170, 1226, 1104, 136, 102]"
      ]
     },
     "execution_count": 94,
     "metadata": {},
     "output_type": "execute_result"
    }
   ],
   "source": [
    "tokenizer.encode(questions[0], truncation = True, padding = True)"
   ]
  },
  {
   "cell_type": "code",
   "execution_count": 95,
   "id": "b7dd7983",
   "metadata": {},
   "outputs": [
    {
     "data": {
      "text/plain": [
       "[101, 102, 102]"
      ]
     },
     "execution_count": 95,
     "metadata": {},
     "output_type": "execute_result"
    }
   ],
   "source": [
    "tokenizer.encode('[SEP]')"
   ]
  },
  {
   "cell_type": "code",
   "execution_count": 96,
   "id": "fea63612",
   "metadata": {},
   "outputs": [
    {
     "data": {
      "text/plain": [
       "[101, 101, 102]"
      ]
     },
     "execution_count": 96,
     "metadata": {},
     "output_type": "execute_result"
    }
   ],
   "source": [
    "tokenizer.encode('[CLS]')"
   ]
  },
  {
   "cell_type": "code",
   "execution_count": 97,
   "id": "8d4b3acb",
   "metadata": {},
   "outputs": [],
   "source": [
    "from transformers import pipeline"
   ]
  },
  {
   "cell_type": "code",
   "execution_count": 98,
   "id": "1a4cddd1",
   "metadata": {},
   "outputs": [],
   "source": [
    "nlp = pipeline('question-answering',model=model, tokenizer=tokenizer)"
   ]
  },
  {
   "cell_type": "code",
   "execution_count": 138,
   "id": "010001af",
   "metadata": {},
   "outputs": [
    {
     "data": {
      "text/plain": [
       "{'score': 0.49736878275871277,\n",
       " 'start': 161,\n",
       " 'end': 175,\n",
       " 'answer': 'United Nations'}"
      ]
     },
     "execution_count": 138,
     "metadata": {},
     "output_type": "execute_result"
    }
   ],
   "source": [
    "nlp({\n",
    "    'question':questions[0], 'context': context\n",
    "})"
   ]
  },
  {
   "cell_type": "code",
   "execution_count": 139,
   "id": "a26100bb",
   "metadata": {},
   "outputs": [
    {
     "data": {
      "text/plain": [
       "{'score': 0.9895828366279602, 'start': 39, 'end': 43, 'answer': '1922'}"
      ]
     },
     "execution_count": 139,
     "metadata": {},
     "output_type": "execute_result"
    }
   ],
   "source": [
    "nlp({\n",
    "    'question':questions[1], 'context': context\n",
    "})"
   ]
  },
  {
   "cell_type": "code",
   "execution_count": 140,
   "id": "4236de93",
   "metadata": {},
   "outputs": [
    {
     "data": {
      "text/plain": [
       "{'score': 0.7511797547340393,\n",
       " 'start': 370,\n",
       " 'end': 388,\n",
       " 'answer': 'Santos Drummondthe'}"
      ]
     },
     "execution_count": 140,
     "metadata": {},
     "output_type": "execute_result"
    }
   ],
   "source": [
    "nlp({\n",
    "    'question':questions[2], 'context': context\n",
    "})"
   ]
  },
  {
   "cell_type": "code",
   "execution_count": 141,
   "id": "3f79907c",
   "metadata": {},
   "outputs": [
    {
     "data": {
      "text/plain": [
       "{'score': 0.9443583488464355,\n",
       " 'start': 202,\n",
       " 'end': 248,\n",
       " 'answer': 'atmospheric concentrations of greenhouse gases'}"
      ]
     },
     "execution_count": 141,
     "metadata": {},
     "output_type": "execute_result"
    }
   ],
   "source": [
    "nlp({\n",
    "    'question':questions[3], 'context': context\n",
    "})"
   ]
  },
  {
   "cell_type": "code",
   "execution_count": 142,
   "id": "97626d12",
   "metadata": {},
   "outputs": [
    {
     "data": {
      "text/plain": [
       "{'score': 0.713492214679718,\n",
       " 'start': 400,\n",
       " 'end': 422,\n",
       " 'answer': 'Supreme Cort of Brazil'}"
      ]
     },
     "execution_count": 142,
     "metadata": {},
     "output_type": "execute_result"
    }
   ],
   "source": [
    "nlp({\n",
    "    'question':questions[4], 'context': context\n",
    "})"
   ]
  },
  {
   "cell_type": "code",
   "execution_count": 110,
   "id": "3ba3cd2a",
   "metadata": {},
   "outputs": [],
   "source": [
    "context2 = (\"The IPCC is an organization of governments that are members of the United Nations or WMO\"\n",
    "             \"The IPCC currently has 195 members.\"\n",
    "             \"Thousands of people from all over the world contribute to the work of the IPCC.\"\n",
    "            )"
   ]
  },
  {
   "cell_type": "code",
   "execution_count": 113,
   "id": "2d84e807",
   "metadata": {},
   "outputs": [],
   "source": [
    "questions2 = [\"Which  gorverment organization is the IPCC is a member of?\",\n",
    "             \"How many members does the IPCC has?\",\n",
    "             \"How many people contribute to the work of the IPCC?\"\n",
    "            ]"
   ]
  },
  {
   "cell_type": "code",
   "execution_count": 115,
   "id": "0b06186b",
   "metadata": {},
   "outputs": [
    {
     "data": {
      "text/plain": [
       "{'score': 0.49644652009010315,\n",
       " 'start': 67,\n",
       " 'end': 81,\n",
       " 'answer': 'United Nations'}"
      ]
     },
     "execution_count": 115,
     "metadata": {},
     "output_type": "execute_result"
    }
   ],
   "source": [
    "nlp({\n",
    "    'question':questions2[0], 'context': context2\n",
    "})"
   ]
  },
  {
   "cell_type": "code",
   "execution_count": 116,
   "id": "72df5e42",
   "metadata": {},
   "outputs": [
    {
     "data": {
      "text/plain": [
       "{'score': 0.9531529545783997, 'start': 111, 'end': 114, 'answer': '195'}"
      ]
     },
     "execution_count": 116,
     "metadata": {},
     "output_type": "execute_result"
    }
   ],
   "source": [
    "nlp({\n",
    "    'question':questions2[1], 'context': context2\n",
    "})"
   ]
  },
  {
   "cell_type": "code",
   "execution_count": 117,
   "id": "a4fb0f6a",
   "metadata": {},
   "outputs": [
    {
     "data": {
      "text/plain": [
       "{'score': 0.4720688462257385, 'start': 123, 'end': 132, 'answer': 'Thousands'}"
      ]
     },
     "execution_count": 117,
     "metadata": {},
     "output_type": "execute_result"
    }
   ],
   "source": [
    "nlp({\n",
    "    'question':questions2[2], 'context': context2\n",
    "})"
   ]
  },
  {
   "cell_type": "code",
   "execution_count": null,
   "id": "5ebe529d",
   "metadata": {},
   "outputs": [],
   "source": []
  }
 ],
 "metadata": {
  "kernelspec": {
   "display_name": "sleep",
   "language": "python",
   "name": "sleep"
  },
  "language_info": {
   "codemirror_mode": {
    "name": "ipython",
    "version": 3
   },
   "file_extension": ".py",
   "mimetype": "text/x-python",
   "name": "python",
   "nbconvert_exporter": "python",
   "pygments_lexer": "ipython3",
   "version": "3.9.12"
  }
 },
 "nbformat": 4,
 "nbformat_minor": 5
}
